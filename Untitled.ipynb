{
 "cells": [
  {
   "cell_type": "code",
   "execution_count": 38,
   "id": "29991c0a",
   "metadata": {},
   "outputs": [],
   "source": [
    "num = 100"
   ]
  },
  {
   "cell_type": "code",
   "execution_count": 46,
   "id": "17747b08",
   "metadata": {},
   "outputs": [],
   "source": [
    "def prime_finder(num):\n",
    "    for item in range(num, 0, -1):\n",
    "        mirror_num = item - 1\n",
    "        brk = False\n",
    "\n",
    "        for item_2 in range(item):\n",
    "            #print(item, mirror_num)\n",
    "            if item%mirror_num == 0:\n",
    "                print (item, \"is not a prime\")\n",
    "                break\n",
    "\n",
    "            mirror_num = mirror_num - 1\n",
    "            #print(mirror_num, \"is mirror num\")\n",
    "            if mirror_num < 2:\n",
    "                print(item, \"is a prime\")\n",
    "                #brk = True\n",
    "                break\n",
    "\n",
    "        if item <= 2:\n",
    "            brk = True\n",
    "        if brk == True:\n",
    "            break\n",
    "\n",
    "\n"
   ]
  },
  {
   "cell_type": "code",
   "execution_count": 12,
   "id": "03b2977a",
   "metadata": {},
   "outputs": [
    {
     "ename": "TypeError",
     "evalue": "'int' object is not iterable",
     "output_type": "error",
     "traceback": [
      "\u001b[0;31m---------------------------------------------------------------------------\u001b[0m",
      "\u001b[0;31mTypeError\u001b[0m                                 Traceback (most recent call last)",
      "\u001b[0;32m/var/folders/bl/w9hgn46d2tsc3myythpk3ctc0000gn/T/ipykernel_44903/479983983.py\u001b[0m in \u001b[0;36m<module>\u001b[0;34m\u001b[0m\n\u001b[0;32m----> 1\u001b[0;31m \u001b[0;32mfor\u001b[0m \u001b[0mitem\u001b[0m \u001b[0;32min\u001b[0m \u001b[0mnum\u001b[0m\u001b[0;34m:\u001b[0m\u001b[0;34m\u001b[0m\u001b[0;34m\u001b[0m\u001b[0m\n\u001b[0m\u001b[1;32m      2\u001b[0m     \u001b[0mprint\u001b[0m\u001b[0;34m(\u001b[0m\u001b[0mstr\u001b[0m\u001b[0;34m(\u001b[0m\u001b[0mitem\u001b[0m\u001b[0;34m)\u001b[0m\u001b[0;34m)\u001b[0m\u001b[0;34m\u001b[0m\u001b[0;34m\u001b[0m\u001b[0m\n",
      "\u001b[0;31mTypeError\u001b[0m: 'int' object is not iterable"
     ]
    }
   ],
   "source": [
    "for item in num:\n",
    "    print(str(item))\n"
   ]
  },
  {
   "cell_type": "code",
   "execution_count": 21,
   "id": "841c3527",
   "metadata": {},
   "outputs": [],
   "source": [
    "for item in range(1,num + 1, -1):\n",
    "    print(item)"
   ]
  },
  {
   "cell_type": "code",
   "execution_count": 26,
   "id": "7ac58dbf",
   "metadata": {},
   "outputs": [
    {
     "name": "stdout",
     "output_type": "stream",
     "text": [
      "10\n",
      "9\n",
      "8\n",
      "7\n",
      "6\n",
      "5\n",
      "4\n",
      "3\n",
      "2\n",
      "1\n"
     ]
    }
   ],
   "source": [
    "for item in range(num, 0, -1):\n",
    "    print(item)"
   ]
  },
  {
   "cell_type": "code",
   "execution_count": 47,
   "id": "546657a1",
   "metadata": {},
   "outputs": [
    {
     "name": "stdout",
     "output_type": "stream",
     "text": [
      "72 is not a prime\n",
      "71 is a prime\n",
      "70 is not a prime\n",
      "69 is not a prime\n",
      "68 is not a prime\n",
      "67 is a prime\n",
      "66 is not a prime\n",
      "65 is not a prime\n",
      "64 is not a prime\n",
      "63 is not a prime\n",
      "62 is not a prime\n",
      "61 is a prime\n",
      "60 is not a prime\n",
      "59 is a prime\n",
      "58 is not a prime\n",
      "57 is not a prime\n",
      "56 is not a prime\n",
      "55 is not a prime\n",
      "54 is not a prime\n",
      "53 is a prime\n",
      "52 is not a prime\n",
      "51 is not a prime\n",
      "50 is not a prime\n",
      "49 is not a prime\n",
      "48 is not a prime\n",
      "47 is a prime\n",
      "46 is not a prime\n",
      "45 is not a prime\n",
      "44 is not a prime\n",
      "43 is a prime\n",
      "42 is not a prime\n",
      "41 is a prime\n",
      "40 is not a prime\n",
      "39 is not a prime\n",
      "38 is not a prime\n",
      "37 is a prime\n",
      "36 is not a prime\n",
      "35 is not a prime\n",
      "34 is not a prime\n",
      "33 is not a prime\n",
      "32 is not a prime\n",
      "31 is a prime\n",
      "30 is not a prime\n",
      "29 is a prime\n",
      "28 is not a prime\n",
      "27 is not a prime\n",
      "26 is not a prime\n",
      "25 is not a prime\n",
      "24 is not a prime\n",
      "23 is a prime\n",
      "22 is not a prime\n",
      "21 is not a prime\n",
      "20 is not a prime\n",
      "19 is a prime\n",
      "18 is not a prime\n",
      "17 is a prime\n",
      "16 is not a prime\n",
      "15 is not a prime\n",
      "14 is not a prime\n",
      "13 is a prime\n",
      "12 is not a prime\n",
      "11 is a prime\n",
      "10 is not a prime\n",
      "9 is not a prime\n",
      "8 is not a prime\n",
      "7 is a prime\n",
      "6 is not a prime\n",
      "5 is a prime\n",
      "4 is not a prime\n",
      "3 is a prime\n",
      "2 is not a prime\n"
     ]
    }
   ],
   "source": [
    "prime_finder(72)"
   ]
  },
  {
   "cell_type": "code",
   "execution_count": null,
   "id": "53a907a9",
   "metadata": {},
   "outputs": [],
   "source": []
  }
 ],
 "metadata": {
  "kernelspec": {
   "display_name": "Python 3 (ipykernel)",
   "language": "python",
   "name": "python3"
  },
  "language_info": {
   "codemirror_mode": {
    "name": "ipython",
    "version": 3
   },
   "file_extension": ".py",
   "mimetype": "text/x-python",
   "name": "python",
   "nbconvert_exporter": "python",
   "pygments_lexer": "ipython3",
   "version": "3.9.9"
  }
 },
 "nbformat": 4,
 "nbformat_minor": 5
}
